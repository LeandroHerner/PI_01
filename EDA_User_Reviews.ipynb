{
 "cells": [
  {
   "cell_type": "markdown",
   "metadata": {},
   "source": [
    "### LIBRERIAS"
   ]
  },
  {
   "cell_type": "code",
   "execution_count": 2,
   "metadata": {},
   "outputs": [],
   "source": [
    "import pandas as pd\n",
    "import matplotlib.pyplot as plt\n",
    "import seaborn as sns\n",
    "import json\n",
    "import ast\n",
    "import warnings\n",
    "import pyarrow as pa\n",
    "import pyarrow.parquet as pq\n",
    "warnings.filterwarnings('ignore')"
   ]
  },
  {
   "cell_type": "markdown",
   "metadata": {},
   "source": [
    "### EDA al dataset user_reviews\n",
    "\n",
    "- El analisis exploratorio de los datos se hará sobre el dataset al que previamente se le realizó un proceso de ETL donde se reservaron las columnas utiles a los fines del proyecto.\n"
   ]
  },
  {
   "cell_type": "code",
   "execution_count": 8,
   "metadata": {},
   "outputs": [
    {
     "data": {
      "text/html": [
       "<div>\n",
       "<style scoped>\n",
       "    .dataframe tbody tr th:only-of-type {\n",
       "        vertical-align: middle;\n",
       "    }\n",
       "\n",
       "    .dataframe tbody tr th {\n",
       "        vertical-align: top;\n",
       "    }\n",
       "\n",
       "    .dataframe thead th {\n",
       "        text-align: right;\n",
       "    }\n",
       "</style>\n",
       "<table border=\"1\" class=\"dataframe\">\n",
       "  <thead>\n",
       "    <tr style=\"text-align: right;\">\n",
       "      <th></th>\n",
       "      <th>user_id</th>\n",
       "      <th>id</th>\n",
       "      <th>recommend</th>\n",
       "      <th>review_year</th>\n",
       "      <th>sentiment_analysis</th>\n",
       "    </tr>\n",
       "  </thead>\n",
       "  <tbody>\n",
       "    <tr>\n",
       "      <th>0</th>\n",
       "      <td>76561197970982479</td>\n",
       "      <td>1250</td>\n",
       "      <td>True</td>\n",
       "      <td>2011</td>\n",
       "      <td>2</td>\n",
       "    </tr>\n",
       "    <tr>\n",
       "      <th>1</th>\n",
       "      <td>76561197970982479</td>\n",
       "      <td>22200</td>\n",
       "      <td>True</td>\n",
       "      <td>2011</td>\n",
       "      <td>2</td>\n",
       "    </tr>\n",
       "    <tr>\n",
       "      <th>2</th>\n",
       "      <td>76561197970982479</td>\n",
       "      <td>43110</td>\n",
       "      <td>True</td>\n",
       "      <td>2011</td>\n",
       "      <td>2</td>\n",
       "    </tr>\n",
       "    <tr>\n",
       "      <th>3</th>\n",
       "      <td>js41637</td>\n",
       "      <td>251610</td>\n",
       "      <td>True</td>\n",
       "      <td>2014</td>\n",
       "      <td>2</td>\n",
       "    </tr>\n",
       "    <tr>\n",
       "      <th>4</th>\n",
       "      <td>js41637</td>\n",
       "      <td>227300</td>\n",
       "      <td>True</td>\n",
       "      <td>2013</td>\n",
       "      <td>2</td>\n",
       "    </tr>\n",
       "    <tr>\n",
       "      <th>...</th>\n",
       "      <td>...</td>\n",
       "      <td>...</td>\n",
       "      <td>...</td>\n",
       "      <td>...</td>\n",
       "      <td>...</td>\n",
       "    </tr>\n",
       "    <tr>\n",
       "      <th>59328</th>\n",
       "      <td>76561198312638244</td>\n",
       "      <td>70</td>\n",
       "      <td>True</td>\n",
       "      <td>2015</td>\n",
       "      <td>2</td>\n",
       "    </tr>\n",
       "    <tr>\n",
       "      <th>59329</th>\n",
       "      <td>76561198312638244</td>\n",
       "      <td>362890</td>\n",
       "      <td>True</td>\n",
       "      <td>2015</td>\n",
       "      <td>2</td>\n",
       "    </tr>\n",
       "    <tr>\n",
       "      <th>59330</th>\n",
       "      <td>LydiaMorley</td>\n",
       "      <td>273110</td>\n",
       "      <td>True</td>\n",
       "      <td>2015</td>\n",
       "      <td>2</td>\n",
       "    </tr>\n",
       "    <tr>\n",
       "      <th>59331</th>\n",
       "      <td>LydiaMorley</td>\n",
       "      <td>730</td>\n",
       "      <td>True</td>\n",
       "      <td>2015</td>\n",
       "      <td>2</td>\n",
       "    </tr>\n",
       "    <tr>\n",
       "      <th>59332</th>\n",
       "      <td>LydiaMorley</td>\n",
       "      <td>440</td>\n",
       "      <td>True</td>\n",
       "      <td>2015</td>\n",
       "      <td>2</td>\n",
       "    </tr>\n",
       "  </tbody>\n",
       "</table>\n",
       "<p>58457 rows × 5 columns</p>\n",
       "</div>"
      ],
      "text/plain": [
       "                 user_id      id recommend  review_year  sentiment_analysis\n",
       "0      76561197970982479    1250      True         2011                   2\n",
       "1      76561197970982479   22200      True         2011                   2\n",
       "2      76561197970982479   43110      True         2011                   2\n",
       "3                js41637  251610      True         2014                   2\n",
       "4                js41637  227300      True         2013                   2\n",
       "...                  ...     ...       ...          ...                 ...\n",
       "59328  76561198312638244      70      True         2015                   2\n",
       "59329  76561198312638244  362890      True         2015                   2\n",
       "59330        LydiaMorley  273110      True         2015                   2\n",
       "59331        LydiaMorley     730      True         2015                   2\n",
       "59332        LydiaMorley     440      True         2015                   2\n",
       "\n",
       "[58457 rows x 5 columns]"
      ]
     },
     "execution_count": 8,
     "metadata": {},
     "output_type": "execute_result"
    }
   ],
   "source": [
    "# Se carga el archivo para generar un dataframe \n",
    "user_reviews = pd.read_parquet('datos_parquet/user_reviews.parquet')\n",
    "user_reviews"
   ]
  },
  {
   "cell_type": "code",
   "execution_count": 9,
   "metadata": {},
   "outputs": [
    {
     "name": "stdout",
     "output_type": "stream",
     "text": [
      "<class 'pandas.core.frame.DataFrame'>\n",
      "Index: 58457 entries, 0 to 59332\n",
      "Data columns (total 5 columns):\n",
      " #   Column              Non-Null Count  Dtype \n",
      "---  ------              --------------  ----- \n",
      " 0   user_id             58457 non-null  object\n",
      " 1   id                  58431 non-null  Int64 \n",
      " 2   recommend           58431 non-null  object\n",
      " 3   review_year         58457 non-null  int32 \n",
      " 4   sentiment_analysis  58457 non-null  int64 \n",
      "dtypes: Int64(1), int32(1), int64(1), object(2)\n",
      "memory usage: 2.5+ MB\n"
     ]
    }
   ],
   "source": [
    "user_reviews.info()"
   ]
  },
  {
   "cell_type": "markdown",
   "metadata": {},
   "source": [
    "El dataset 'user_reviews' posee 5 columnas y 58457 registros.\n",
    "\n",
    "El contenido de las columnas es el siguiente:\n",
    "- user_id: elemento identificador de cada usuario que realizó una review. Dato tipo str\n",
    "- id: elemento identificador de cada titulo registrado en el dataset. Dato tipo int\n",
    "- recommend: verifica si existe o no una reseña. Dato tipo bool\n",
    "- review_year: año en el que se realizo la reseña. Dato tipo int\n",
    "- sentiment_analysis: puntaje de acuerdo al tipo de reseña dada. Dato tipo int\n"
   ]
  },
  {
   "cell_type": "code",
   "execution_count": 11,
   "metadata": {},
   "outputs": [
    {
     "data": {
      "text/plain": [
       "user_id                0\n",
       "id                    26\n",
       "recommend             26\n",
       "review_year            0\n",
       "sentiment_analysis     0\n",
       "dtype: int64"
      ]
     },
     "execution_count": 11,
     "metadata": {},
     "output_type": "execute_result"
    }
   ],
   "source": [
    "# Se verifica cantidad de nulos por columna\n",
    "user_reviews.isnull().sum()"
   ]
  },
  {
   "cell_type": "code",
   "execution_count": 12,
   "metadata": {},
   "outputs": [
    {
     "data": {
      "text/plain": [
       "user_id               25484\n",
       "id                     3682\n",
       "recommend                 2\n",
       "review_year               6\n",
       "sentiment_analysis        3\n",
       "dtype: int64"
      ]
     },
     "execution_count": 12,
     "metadata": {},
     "output_type": "execute_result"
    }
   ],
   "source": [
    "# Se verifican la cantidad de datos unicos por columna\n",
    "user_reviews.nunique()"
   ]
  },
  {
   "cell_type": "code",
   "execution_count": 13,
   "metadata": {},
   "outputs": [
    {
     "data": {
      "text/plain": [
       "sentiment_analysis\n",
       "2    36843\n",
       "1    12132\n",
       "0     9482\n",
       "Name: count, dtype: int64"
      ]
     },
     "execution_count": 13,
     "metadata": {},
     "output_type": "execute_result"
    }
   ],
   "source": [
    "# Se realiza un recuento de cada puntaje para entender su distribución\n",
    "user_reviews['sentiment_analysis'].value_counts()"
   ]
  },
  {
   "cell_type": "code",
   "execution_count": 14,
   "metadata": {},
   "outputs": [
    {
     "name": "stdout",
     "output_type": "stream",
     "text": [
      "De los 58431 registros totales, hay 51692 registros que han sido recomendados frente a 6739 de registros no recomendados\n"
     ]
    }
   ],
   "source": [
    "no_recomienda = user_reviews['recommend'].eq(False).sum()\n",
    "\n",
    "si_recomienda = user_reviews['recommend'].eq(True).sum()\n",
    "\n",
    "total_recomienda = si_recomienda + no_recomienda\n",
    "\n",
    "print(f'De los {total_recomienda} registros totales, hay {si_recomienda} registros que han sido recomendados frente a {no_recomienda} de registros no recomendados')"
   ]
  },
  {
   "cell_type": "code",
   "execution_count": 15,
   "metadata": {},
   "outputs": [
    {
     "data": {
      "text/plain": [
       "(63.03, 20.75, 16.22)"
      ]
     },
     "execution_count": 15,
     "metadata": {},
     "output_type": "execute_result"
    }
   ],
   "source": [
    "# Se calcula el porcentaje de cada puntaje del analisis de sentimiento.\n",
    "positivos = round(((user_reviews['sentiment_analysis'].eq(2).sum())/len(user_reviews))*100,2)\n",
    "neutros = round(((user_reviews['sentiment_analysis'].eq(1).sum())/len(user_reviews))*100,2)\n",
    "negativos = round(((user_reviews['sentiment_analysis'].eq(0).sum())/len(user_reviews))*100,2)\n",
    "positivos , neutros, negativos"
   ]
  },
  {
   "cell_type": "code",
   "execution_count": 19,
   "metadata": {},
   "outputs": [
    {
     "data": {
      "image/png": "[encoded data removed]",
      "text/plain": [
       "<Figure size 500x500 with 1 Axes>"
      ]
     },
     "metadata": {},
     "output_type": "display_data"
    }
   ],
   "source": [
    "# Para mejor interpretación de los porcentajes se crea un piechart\n",
    "sizes = positivos , neutros, negativos\n",
    "etiqueta = 'Positivo', 'Neutro', 'Negativo'\n",
    "sns.set_theme()\n",
    "\n",
    "plt.figure(figsize=(5,5))\n",
    "plt.pie(sizes,labels=etiqueta, autopct='%1.1f%%', startangle=140)\n",
    "\n",
    "plt.title('Distribución Sentiment Analysis')\n",
    "plt.axis('equal')\n",
    "\n",
    "plt.show()"
   ]
  },
  {
   "cell_type": "markdown",
   "metadata": {},
   "source": [
    "Sobre el dataset user_reviews se puede decir que: \n",
    "- No posee datos nulos.\n",
    "- Las reviews positivas predominan con un 63.05% del total del dataset.\n",
    "- De los 58457 registros, hay 25458 usuarios que realizaron una review, por lo que se deduce que, en su mayoria, los usuarios han hecho una review a mas de un titulo. "
   ]
  }
 ],
 "metadata": {
  "kernelspec": {
   "display_name": "Python 3",
   "language": "python",
   "name": "python3"
  },
  "language_info": {
   "codemirror_mode": {
    "name": "ipython",
    "version": 3
   },
   "file_extension": ".py",
   "mimetype": "text/x-python",
   "name": "python",
   "nbconvert_exporter": "python",
   "pygments_lexer": "ipython3",
   "version": "3.11.4"
  }
 },
 "nbformat": 4,
 "nbformat_minor": 2
}
